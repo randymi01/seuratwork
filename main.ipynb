{
 "cells": [
  {
   "cell_type": "code",
   "execution_count": 3,
   "metadata": {},
   "outputs": [],
   "source": [
    "# test reading in 10x data with AnnData\n",
    "import pandas as pd\n",
    "import numpy as np\n",
    "import scanpy as sc\n",
    "from glob import glob\n",
    "import os\n",
    "import pickle\n",
    "\n",
    "from matplotlib import pyplot as plt\n",
    "import seaborn as sns\n",
    "sns.set_palette(sns.color_palette(\"Spectral\"))\n",
    "sns.set_style(\"whitegrid\")\n",
    "\n",
    "from matplotlib.ticker import StrMethodFormatter\n",
    "# ax.xaxis.set_major_formatter(StrMethodFormatter(\"{x:.2f}\"))"
   ]
  },
  {
   "cell_type": "code",
   "execution_count": 2,
   "metadata": {},
   "outputs": [],
   "source": [
    "data_dir = \"data\""
   ]
  },
  {
   "cell_type": "code",
   "execution_count": null,
   "metadata": {},
   "outputs": [],
   "source": [
    "for i,j,k in os.walk(data_dir):\n",
    "    print(i,j,k)\n",
    "    print('\\n')"
   ]
  },
  {
   "cell_type": "code",
   "execution_count": 10,
   "metadata": {},
   "outputs": [
    {
     "name": "stdout",
     "output_type": "stream",
     "text": [
      "data\\GSE154775\\GSM4679492_HS1\n",
      "data\\GSE154775\\GSM4679493_HS2\n",
      "data\\GSE154775\\GSM4679494_181009_HS_lesional_epi\n",
      "data\\GSE154775\\GSM4679495_181009_HS_lesional_dermis\n",
      "data\\GSE154775\\GSM4679496_HSEpi190103\n",
      "data\\GSE154775\\GSM4679497_HSDerm190103\n",
      "data\\GSE154775\\GSM4679498_HSEpi190115\n",
      "data\\GSE154775\\GSM4679499_HSDerm190115\n",
      "data\\GSE154775\\GSM4679500_HS_07_2018-06-29\n",
      "data\\GSE155850\\GSM4712969_Healthy_1\n",
      "data\\GSE155850\\GSM4712970_Healthy_2\n",
      "data\\GSE155850\\GSM4712971_HS_1\n",
      "data\\GSE155850\\GSM4712972_HS_2\n",
      "data\\GSE155850\\GSM7754887_Healthy1KC\n",
      "data\\GSE155850\\GSM7754888_Healthy2KC\n",
      "data\\GSE155850\\GSM7754889_HS1KC\n",
      "data\\GSE155850\\GSM7754890_HS2KC\n",
      "data\\GSE175990\\GSM5352392_HS_1\n",
      "data\\GSE175990\\GSM5352393_HS_2\n",
      "data\\GSE175990\\GSM5352394_HS_3\n",
      "data\\GSE175990\\GSM5352395_HC\n",
      "data\\GSE220116\\GSM6840117_HIS_DIS_01M_LS_Der\n",
      "data\\GSE220116\\GSM6840118_HIS_DIS_01M_LS_Epi\n",
      "data\\GSE220116\\GSM6840119_HIS_DIS_02M_LS_Der\n",
      "data\\GSE220116\\GSM6840120_HIS_DIS_02M_LS_Epi\n",
      "data\\GSE220116\\GSM6840121_HIS_DIS_A_LS_Total\n",
      "data\\GSE220116\\GSM6840122_HIS_DIS_B_LS_Total\n",
      "data\\GSE220116\\GSM6840123_HIS_DIS_D_LS_Der\n",
      "data\\GSE220116\\GSM6840124_HIS_DIS_D_LS_Epi\n",
      "data\\GSE220116\\GSM6840125_Psoriasis01_preTx_LS\n",
      "data\\GSE220116\\GSM6840126_Psoriasis02_preTx_LS\n",
      "data\\GSE220116\\GSM6840127_Psoriasis03_preTx_LS\n",
      "data\\GSE220116\\GSM6840128_Psoriasis04_postTx_week12_LS\n",
      "data\\GSE220116\\GSM6840129_Psoriasis04_preTx_LS\n",
      "data\\GSE220116\\GSM6840130_Psoriasis05_postTx_week12_LS\n",
      "data\\GSE220116\\GSM6840131_Psoriasis05_preTx_LS\n",
      "data\\GSE220116\\GSM6840132_Psoriasis06_preTx_LS\n",
      "data\\GSE220116\\GSM6840133_Psoriasis07_postTx_week12_LS\n",
      "data\\GSE220116\\GSM6840134_Psoriasis07_postTx_week48_LS\n",
      "data\\GSE220116\\GSM6840135_Psoriasis07_preTx_LS\n",
      "data\\GSE220116\\GSM6840136_Psoriasis07_preTx_LS_02\n",
      "data\\GSE220116\\GSM6840137_Psoriasis07_preTx_NL_02\n",
      "data\\GSE220116\\GSM6840138_Psoriasis08_postTx_week12_LS\n",
      "data\\GSE220116\\GSM6840139_Psoriasis08_postTx_week24_LS\n",
      "data\\GSE220116\\GSM6840140_Psoriasis08_preTx_LS\n",
      "data\\GSE220116\\GSM6840141_Psoriasis09_preTx_LS\n",
      "data\\GSE220116\\GSM6840142_Psoriasis10_preTx_LS\n",
      "data\\GSE220116\\GSM6840143_Control01\n",
      "data\\GSE220116\\GSM6840144_Control02\n",
      "data\\GSE220116\\GSM6840145_Control03\n",
      "data\\GSE220116\\GSM6840146_Control04\n",
      "data\\GSE220116\\GSM6840147_Control05\n",
      "data\\GSE220116\\GSM6840148_Control06\n",
      "data\\GSE220116\\GSM6840149_Control07\n",
      "data\\GSE220116\\GSM6840150_Control08\n",
      "data\\GSE220116\\GSM6840151_Control09\n",
      "data\\GSE220116\\GSM6840152_Control10\n",
      "data\\GSE226427\\GSM7074778_HS1\n",
      "data\\GSE226427\\GSM7074778_HS2\n",
      "data\\GSE226427\\GSM7074778_Normal1\n",
      "data\\GSE226427\\GSM7074778_Normal2\n",
      "data\\GSE226427\\GSM7074779_HS3\n",
      "data\\GSE226427\\GSM7074779_HS4\n",
      "data\\GSE226427\\GSM7074779_HS5\n",
      "data\\GSE226427\\GSM7074779_Normal5\n",
      "data\\GSE226427\\GSM7074780_HS6\n",
      "data\\GSE226427\\GSM7074780_HS7\n",
      "data\\GSE226427\\GSM7074780_Normal6\n",
      "data\\GSE226427\\GSM7074781_Normal4\n",
      "data\\GSE249621\\GSM7951916_HS10x2\n",
      "data\\GSE249621\\GSM7951917_HS10x4\n",
      "data\\GSE249621\\GSM7951918_HS10x6\n",
      "data\\GSE249621\\GSM7951919_NST10\n",
      "data\\GSE249621\\GSM7951920_NST11\n",
      "data\\GSE249621\\GSM7951921_NST22\n",
      "data\\GSE249621\\GSM7951922_NST29\n",
      "data\\GSE249621\\GSM7951923_NST8\n",
      "data\\GSE249621\\GSM7951924_NST9\n",
      "data\\GSE249622\\GSM7951925_HS419_Treg_CD4Teff\n",
      "data\\GSE249622\\GSM7951926_HS10x2_TregCD4Teff\n",
      "data\\GSE249622\\GSM7951927_HS10x4_Treg\n",
      "data\\GSE249622\\GSM7951928_HS10x4_CD4Teff\n",
      "data\\GSE249622\\GSM7951929_HS10x5_CD4Teff\n",
      "data\\GSE249622\\GSM7951930_HS10x5_Treg\n",
      "data\\GSE249622\\GSM7951931_HS10x6_Treg\n",
      "data\\GSE249622\\GSM7951932_HS10x6_CD4Teff\n",
      "data\\GSE249622\\GSM7951933_NST5_Treg_CD4Teff\n",
      "data\\GSE249622\\GSM7951934_NST7_Treg_CD4Teff\n",
      "data\\GSE249622\\GSM7951935_NST8_CD4Teff\n",
      "data\\GSE249622\\GSM7951936_NST8_Treg\n",
      "data\\GSE249622\\GSM7951937_NST9_Treg_CD4Teff\n",
      "data\\GSE249622\\GSM7951938_NST10_Treg_CD4Teff\n",
      "data\\GSE249793\\GSM7964410_HS10x5_CD3Neg\n",
      "data\\GSE249793\\GSM7964411_HS10x6_CD3Neg\n",
      "data\\GSE249793\\GSM7964412_HS10x4_CD3Neg\n",
      "data\\GSE249793\\GSM7964413_HS10x2_CD3Neg\n",
      "data\\GSE249793\\GSM7964414_HS419_CD3Neg\n",
      "data\\GSE249793\\GSM7964415_HS10x5B_CD3Neg\n",
      "data\\GSE249793\\GSM7964416_HS10x6B_CD3Neg\n",
      "data\\GSE249793\\GSM7964417_HS10x4B_CD3Neg\n",
      "data\\GSE249793\\GSM7964418_HS10x2B_CD3Neg\n",
      "data\\GSE249793\\GSM7964419_HS419B_CD3Neg\n",
      "data\\GSE249793\\GSM7964420_NST7_CD3Neg\n",
      "data\\GSE249793\\GSM7964421_NST5_CD3Neg\n",
      "data\\GSE249793\\GSM7964422_NST8_CD3Neg\n",
      "data\\GSE249793\\GSM7964423_NST9_CD3Neg\n",
      "data\\GSE249793\\GSM7964424_NST10_CD3Neg\n",
      "data\\GSE249793\\GSM7964425_NST7B_CD3Neg\n",
      "data\\GSE249793\\GSM7964426_NST5B_CD3Neg\n",
      "data\\GSE249793\\GSM7964427_NST8B_CD3Neg\n",
      "data\\GSE249793\\GSM7964428_NST9B_CD3Neg\n",
      "data\\GSE249793\\GSM7964429_NST10B_CD3Neg\n"
     ]
    }
   ],
   "source": [
    "\n",
    "\n",
    "\n",
    "\n"
   ]
  },
  {
   "cell_type": "code",
   "execution_count": 16,
   "metadata": {},
   "outputs": [],
   "source": [
    "# Function is beyond broken\n",
    "# scanpy.read_10x_mtx(\"data_extract/GSE154775/GSM4679492_HS1\")\n",
    "\n",
    "# make dictionary of gsm code and path\n",
    "gsm_dict = {}\n",
    "for root, folders, _ in os.walk(data_dir):\n",
    "    for i in folders:\n",
    "        if i.startswith(\"GSM\"):\n",
    "            gsm_dict[i.split(\"_\")[0]] = os.path.join(root,i)\n",
    "\n",
    "# returns full path from GSM number\n",
    "def gsm_path(gsm):\n",
    "    return gsm_dict[\"GSM\" + str(gsm)]\n",
    "\n",
    "# returns anndata object of 10x data\n",
    "def read_dir(gsm_code):\n",
    "    data_path = gsm_path(gsm_code)\n",
    "    matrix_path = os.path.join(data_path, 'matrix.mtx')\n",
    "    barcodes_path = os.path.join(data_path, 'barcodes.tsv')\n",
    "    features_path = os.path.join(data_path, 'features.tsv')\n",
    "    \n",
    "    adata = sc.read_mtx(matrix_path)\n",
    "    adata_bc = pd.read_csv(barcodes_path, header=None, delimiter = \"\\t\")\n",
    "    adata_features = pd.read_csv(features_path, header=None, delimiter = '\\t')\n",
    "    print(adata_features)\n",
    "    \n",
    "    adata = adata.T\n",
    "    adata.obs['cell_id'] = adata_bc\n",
    "    adata.var['gene_name'] = adata_features[1].values\n",
    "    adata.var.index = adata.var['gene_name']\n",
    "    \n",
    "    return adata\n",
    "\n"
   ]
  },
  {
   "cell_type": "code",
   "execution_count": 23,
   "metadata": {},
   "outputs": [
    {
     "name": "stdout",
     "output_type": "stream",
     "text": [
      "                     0             1\n",
      "0      ENSG00000243485    MIR1302-10\n",
      "1      ENSG00000237613       FAM138A\n",
      "2      ENSG00000186092         OR4F5\n",
      "3      ENSG00000238009  RP11-34P13.7\n",
      "4      ENSG00000239945  RP11-34P13.8\n",
      "...                ...           ...\n",
      "32733  ENSG00000215635    AC145205.1\n",
      "32734  ENSG00000268590         BAGE5\n",
      "32735  ENSG00000251180    CU459201.1\n",
      "32736  ENSG00000215616    AC002321.2\n",
      "32737  ENSG00000215611    AC002321.1\n",
      "\n",
      "[32738 rows x 2 columns]\n"
     ]
    }
   ],
   "source": [
    "df = read_dir(4679493)"
   ]
  },
  {
   "cell_type": "code",
   "execution_count": 33,
   "metadata": {},
   "outputs": [
    {
     "ename": "SyntaxError",
     "evalue": "invalid syntax (1458202448.py, line 1)",
     "output_type": "error",
     "traceback": [
      "\u001b[1;36m  Cell \u001b[1;32mIn[33], line 1\u001b[1;36m\u001b[0m\n\u001b[1;33m    class(df.X[1:10, 1:10])\u001b[0m\n\u001b[1;37m         ^\u001b[0m\n\u001b[1;31mSyntaxError\u001b[0m\u001b[1;31m:\u001b[0m invalid syntax\n"
     ]
    }
   ],
   "source": [
    "df.X[1:10, 1:10]"
   ]
  },
  {
   "cell_type": "code",
   "execution_count": 104,
   "metadata": {},
   "outputs": [],
   "source": [
    "df.var[\"mt\"] = df.var_names.str.startswith(\"MT-\")\n",
    "df.var[\"ribo\"] = df.var_names.str.startswith((\"RPS\", \"RPL\"))"
   ]
  },
  {
   "cell_type": "code",
   "execution_count": 111,
   "metadata": {},
   "outputs": [
    {
     "data": {
      "text/plain": [
       "pandas.core.frame.DataFrame"
      ]
     },
     "execution_count": 111,
     "metadata": {},
     "output_type": "execute_result"
    }
   ],
   "source": [
    "type(df.var)"
   ]
  },
  {
   "cell_type": "code",
   "execution_count": 44,
   "metadata": {},
   "outputs": [
    {
     "data": {
      "text/html": [
       "<div>\n",
       "<style scoped>\n",
       "    .dataframe tbody tr th:only-of-type {\n",
       "        vertical-align: middle;\n",
       "    }\n",
       "\n",
       "    .dataframe tbody tr th {\n",
       "        vertical-align: top;\n",
       "    }\n",
       "\n",
       "    .dataframe thead th {\n",
       "        text-align: right;\n",
       "    }\n",
       "</style>\n",
       "<table border=\"1\" class=\"dataframe\">\n",
       "  <thead>\n",
       "    <tr style=\"text-align: right;\">\n",
       "      <th></th>\n",
       "      <th>0</th>\n",
       "      <th>1</th>\n",
       "    </tr>\n",
       "  </thead>\n",
       "  <tbody>\n",
       "    <tr>\n",
       "      <th>0</th>\n",
       "      <td>ENSG00000243485</td>\n",
       "      <td>MIR1302-10</td>\n",
       "    </tr>\n",
       "    <tr>\n",
       "      <th>1</th>\n",
       "      <td>ENSG00000237613</td>\n",
       "      <td>FAM138A</td>\n",
       "    </tr>\n",
       "    <tr>\n",
       "      <th>2</th>\n",
       "      <td>ENSG00000186092</td>\n",
       "      <td>OR4F5</td>\n",
       "    </tr>\n",
       "    <tr>\n",
       "      <th>3</th>\n",
       "      <td>ENSG00000238009</td>\n",
       "      <td>RP11-34P13.7</td>\n",
       "    </tr>\n",
       "    <tr>\n",
       "      <th>4</th>\n",
       "      <td>ENSG00000239945</td>\n",
       "      <td>RP11-34P13.8</td>\n",
       "    </tr>\n",
       "    <tr>\n",
       "      <th>...</th>\n",
       "      <td>...</td>\n",
       "      <td>...</td>\n",
       "    </tr>\n",
       "    <tr>\n",
       "      <th>32733</th>\n",
       "      <td>ENSG00000215635</td>\n",
       "      <td>AC145205.1</td>\n",
       "    </tr>\n",
       "    <tr>\n",
       "      <th>32734</th>\n",
       "      <td>ENSG00000268590</td>\n",
       "      <td>BAGE5</td>\n",
       "    </tr>\n",
       "    <tr>\n",
       "      <th>32735</th>\n",
       "      <td>ENSG00000251180</td>\n",
       "      <td>CU459201.1</td>\n",
       "    </tr>\n",
       "    <tr>\n",
       "      <th>32736</th>\n",
       "      <td>ENSG00000215616</td>\n",
       "      <td>AC002321.2</td>\n",
       "    </tr>\n",
       "    <tr>\n",
       "      <th>32737</th>\n",
       "      <td>ENSG00000215611</td>\n",
       "      <td>AC002321.1</td>\n",
       "    </tr>\n",
       "  </tbody>\n",
       "</table>\n",
       "<p>32738 rows × 2 columns</p>\n",
       "</div>"
      ],
      "text/plain": [
       "                     0             1\n",
       "0      ENSG00000243485    MIR1302-10\n",
       "1      ENSG00000237613       FAM138A\n",
       "2      ENSG00000186092         OR4F5\n",
       "3      ENSG00000238009  RP11-34P13.7\n",
       "4      ENSG00000239945  RP11-34P13.8\n",
       "...                ...           ...\n",
       "32733  ENSG00000215635    AC145205.1\n",
       "32734  ENSG00000268590         BAGE5\n",
       "32735  ENSG00000251180    CU459201.1\n",
       "32736  ENSG00000215616    AC002321.2\n",
       "32737  ENSG00000215611    AC002321.1\n",
       "\n",
       "[32738 rows x 2 columns]"
      ]
     },
     "execution_count": 44,
     "metadata": {},
     "output_type": "execute_result"
    }
   ],
   "source": [
    "pd.read_csv(\"data_extract/GSE154775/GSM4679492_HS1/features.tsv\", delimiter = '\\t', header=None)"
   ]
  },
  {
   "cell_type": "markdown",
   "metadata": {},
   "source": [
    "# Preprocessing Steps\n",
    "1. load data\n",
    "2. QC, for each sample, filter for cells with:\n",
    "    a. 300 < Unique Genes < 6000\n",
    "    b. total RNA count < 40000\n",
    "    c. Michtocondrial DNA < 20%\n",
    "    d. Perform doublet detection and drop doublet cells\n",
    "    e. merge by concatenate\n",
    "    f. normalize\n",
    "\n"
   ]
  }
 ],
 "metadata": {
  "kernelspec": {
   "display_name": "singlecell",
   "language": "python",
   "name": "python3"
  },
  "language_info": {
   "codemirror_mode": {
    "name": "ipython",
    "version": 3
   },
   "file_extension": ".py",
   "mimetype": "text/x-python",
   "name": "python",
   "nbconvert_exporter": "python",
   "pygments_lexer": "ipython3",
   "version": "3.11.4"
  }
 },
 "nbformat": 4,
 "nbformat_minor": 2
}
