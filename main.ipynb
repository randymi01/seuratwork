{
 "cells": [
  {
   "cell_type": "code",
   "execution_count": 7,
   "metadata": {},
   "outputs": [],
   "source": [
    "# test reading in 10x data with AnnData\n",
    "import pandas as pd\n",
    "import numpy as np\n",
    "import scanpy as sc\n",
    "from glob import glob\n",
    "import os\n",
    "\n",
    "from matplotlib import pyplot as plt\n",
    "import seaborn as sns\n",
    "sns.set_palette(sns.color_palette(\"Spectral\"))\n",
    "sns.set_style(\"whitegrid\")\n",
    "\n",
    "from matplotlib.ticker import StrMethodFormatter\n",
    "# ax.xaxis.set_major_formatter(StrMethodFormatter(\"{x:.2f}\"))"
   ]
  },
  {
   "cell_type": "code",
   "execution_count": 22,
   "metadata": {},
   "outputs": [],
   "source": [
    "os.chdir('c:\\\\Users\\\\randymi\\\\Desktop\\\\Suerat Work')"
   ]
  },
  {
   "cell_type": "code",
   "execution_count": 79,
   "metadata": {},
   "outputs": [],
   "source": [
    "adata_bc = pd.read_csv(\"data_extract/GSE154775/GSM4679492_HS1/features.tsv\", header=None, delimiter = \"\\t\")"
   ]
  },
  {
   "cell_type": "code",
   "execution_count": 101,
   "metadata": {},
   "outputs": [
    {
     "data": {
      "text/plain": [
       "0          MIR1302-10\n",
       "1             FAM138A\n",
       "2               OR4F5\n",
       "3        RP11-34P13.7\n",
       "4        RP11-34P13.8\n",
       "             ...     \n",
       "32733      AC145205.1\n",
       "32734           BAGE5\n",
       "32735      CU459201.1\n",
       "32736      AC002321.2\n",
       "32737      AC002321.1\n",
       "Name: 1, Length: 32738, dtype: object"
      ]
     },
     "execution_count": 101,
     "metadata": {},
     "output_type": "execute_result"
    }
   ],
   "source": [
    "adata_bc[1]"
   ]
  },
  {
   "cell_type": "code",
   "execution_count": 112,
   "metadata": {},
   "outputs": [],
   "source": [
    "# Function is beyond broken\n",
    "# scanpy.read_10x_mtx(\"data_extract/GSE154775/GSM4679492_HS1\")\n",
    "\n",
    "def read_dir(data_path):\n",
    "    matrix_path = os.path.join(data_path, 'matrix.mtx')\n",
    "    barcodes_path = os.path.join(data_path, 'barcodes.tsv')\n",
    "    features_path = os.path.join(data_path, 'features.tsv')\n",
    "    \n",
    "    adata = sc.read_mtx(matrix_path)\n",
    "    adata_bc = pd.read_csv(barcodes_path, header=None, delimiter = \"\\t\")\n",
    "    adata_features = pd.read_csv(features_path, header=None, delimiter = '\\t')\n",
    "    print(adata_features)\n",
    "    \n",
    "    adata = adata.T\n",
    "    adata.obs['cell_id'] = adata_bc\n",
    "    adata.var['gene_name'] = adata_features[1].values\n",
    "    adata.var.index = adata.var['gene_name']\n",
    "    \n",
    "    return adata"
   ]
  },
  {
   "cell_type": "code",
   "execution_count": 114,
   "metadata": {},
   "outputs": [],
   "source": [
    "adata = sc.read_mtx(\"data_extract/GSE154775/GSM4679492_HS1/matrix.mtx\")"
   ]
  },
  {
   "cell_type": "code",
   "execution_count": 118,
   "metadata": {},
   "outputs": [
    {
     "data": {
      "text/html": [
       "<div>\n",
       "<style scoped>\n",
       "    .dataframe tbody tr th:only-of-type {\n",
       "        vertical-align: middle;\n",
       "    }\n",
       "\n",
       "    .dataframe tbody tr th {\n",
       "        vertical-align: top;\n",
       "    }\n",
       "\n",
       "    .dataframe thead th {\n",
       "        text-align: right;\n",
       "    }\n",
       "</style>\n",
       "<table border=\"1\" class=\"dataframe\">\n",
       "  <thead>\n",
       "    <tr style=\"text-align: right;\">\n",
       "      <th></th>\n",
       "      <th>0</th>\n",
       "      <th>1</th>\n",
       "    </tr>\n",
       "  </thead>\n",
       "  <tbody>\n",
       "    <tr>\n",
       "      <th>0</th>\n",
       "      <td>ENSG00000243485</td>\n",
       "      <td>MIR1302-10</td>\n",
       "    </tr>\n",
       "    <tr>\n",
       "      <th>1</th>\n",
       "      <td>ENSG00000237613</td>\n",
       "      <td>FAM138A</td>\n",
       "    </tr>\n",
       "    <tr>\n",
       "      <th>2</th>\n",
       "      <td>ENSG00000186092</td>\n",
       "      <td>OR4F5</td>\n",
       "    </tr>\n",
       "    <tr>\n",
       "      <th>3</th>\n",
       "      <td>ENSG00000238009</td>\n",
       "      <td>RP11-34P13.7</td>\n",
       "    </tr>\n",
       "    <tr>\n",
       "      <th>4</th>\n",
       "      <td>ENSG00000239945</td>\n",
       "      <td>RP11-34P13.8</td>\n",
       "    </tr>\n",
       "    <tr>\n",
       "      <th>...</th>\n",
       "      <td>...</td>\n",
       "      <td>...</td>\n",
       "    </tr>\n",
       "    <tr>\n",
       "      <th>32733</th>\n",
       "      <td>ENSG00000215635</td>\n",
       "      <td>AC145205.1</td>\n",
       "    </tr>\n",
       "    <tr>\n",
       "      <th>32734</th>\n",
       "      <td>ENSG00000268590</td>\n",
       "      <td>BAGE5</td>\n",
       "    </tr>\n",
       "    <tr>\n",
       "      <th>32735</th>\n",
       "      <td>ENSG00000251180</td>\n",
       "      <td>CU459201.1</td>\n",
       "    </tr>\n",
       "    <tr>\n",
       "      <th>32736</th>\n",
       "      <td>ENSG00000215616</td>\n",
       "      <td>AC002321.2</td>\n",
       "    </tr>\n",
       "    <tr>\n",
       "      <th>32737</th>\n",
       "      <td>ENSG00000215611</td>\n",
       "      <td>AC002321.1</td>\n",
       "    </tr>\n",
       "  </tbody>\n",
       "</table>\n",
       "<p>32738 rows × 2 columns</p>\n",
       "</div>"
      ],
      "text/plain": [
       "                     0             1\n",
       "0      ENSG00000243485    MIR1302-10\n",
       "1      ENSG00000237613       FAM138A\n",
       "2      ENSG00000186092         OR4F5\n",
       "3      ENSG00000238009  RP11-34P13.7\n",
       "4      ENSG00000239945  RP11-34P13.8\n",
       "...                ...           ...\n",
       "32733  ENSG00000215635    AC145205.1\n",
       "32734  ENSG00000268590         BAGE5\n",
       "32735  ENSG00000251180    CU459201.1\n",
       "32736  ENSG00000215616    AC002321.2\n",
       "32737  ENSG00000215611    AC002321.1\n",
       "\n",
       "[32738 rows x 2 columns]"
      ]
     },
     "execution_count": 118,
     "metadata": {},
     "output_type": "execute_result"
    }
   ],
   "source": [
    "adata_bc = pd.read_csv(\"data_extract/GSE154775/GSM4679492_HS1/features.tsv\", header = None, delimiter = '\\t')\n",
    "adata_bc"
   ]
  },
  {
   "cell_type": "code",
   "execution_count": 116,
   "metadata": {},
   "outputs": [
    {
     "data": {
      "text/html": [
       "<div>\n",
       "<style scoped>\n",
       "    .dataframe tbody tr th:only-of-type {\n",
       "        vertical-align: middle;\n",
       "    }\n",
       "\n",
       "    .dataframe tbody tr th {\n",
       "        vertical-align: top;\n",
       "    }\n",
       "\n",
       "    .dataframe thead th {\n",
       "        text-align: right;\n",
       "    }\n",
       "</style>\n",
       "<table border=\"1\" class=\"dataframe\">\n",
       "  <thead>\n",
       "    <tr style=\"text-align: right;\">\n",
       "      <th></th>\n",
       "    </tr>\n",
       "  </thead>\n",
       "  <tbody>\n",
       "    <tr>\n",
       "      <th>0</th>\n",
       "    </tr>\n",
       "    <tr>\n",
       "      <th>1</th>\n",
       "    </tr>\n",
       "    <tr>\n",
       "      <th>2</th>\n",
       "    </tr>\n",
       "    <tr>\n",
       "      <th>3</th>\n",
       "    </tr>\n",
       "    <tr>\n",
       "      <th>4</th>\n",
       "    </tr>\n",
       "    <tr>\n",
       "      <th>...</th>\n",
       "    </tr>\n",
       "    <tr>\n",
       "      <th>5631</th>\n",
       "    </tr>\n",
       "    <tr>\n",
       "      <th>5632</th>\n",
       "    </tr>\n",
       "    <tr>\n",
       "      <th>5633</th>\n",
       "    </tr>\n",
       "    <tr>\n",
       "      <th>5634</th>\n",
       "    </tr>\n",
       "    <tr>\n",
       "      <th>5635</th>\n",
       "    </tr>\n",
       "  </tbody>\n",
       "</table>\n",
       "<p>5636 rows × 0 columns</p>\n",
       "</div>"
      ],
      "text/plain": [
       "Empty DataFrame\n",
       "Columns: []\n",
       "Index: [0, 1, 2, 3, 4, 5, 6, 7, 8, 9, 10, 11, 12, 13, 14, 15, 16, 17, 18, 19, 20, 21, 22, 23, 24, 25, 26, 27, 28, 29, 30, 31, 32, 33, 34, 35, 36, 37, 38, 39, 40, 41, 42, 43, 44, 45, 46, 47, 48, 49, 50, 51, 52, 53, 54, 55, 56, 57, 58, 59, 60, 61, 62, 63, 64, 65, 66, 67, 68, 69, 70, 71, 72, 73, 74, 75, 76, 77, 78, 79, 80, 81, 82, 83, 84, 85, 86, 87, 88, 89, 90, 91, 92, 93, 94, 95, 96, 97, 98, 99, ...]\n",
       "\n",
       "[5636 rows x 0 columns]"
      ]
     },
     "execution_count": 116,
     "metadata": {},
     "output_type": "execute_result"
    }
   ],
   "source": [
    "adata.var"
   ]
  },
  {
   "cell_type": "code",
   "execution_count": 113,
   "metadata": {},
   "outputs": [
    {
     "name": "stdout",
     "output_type": "stream",
     "text": [
      "                     0             1\n",
      "0      ENSG00000243485    MIR1302-10\n",
      "1      ENSG00000237613       FAM138A\n",
      "2      ENSG00000186092         OR4F5\n",
      "3      ENSG00000238009  RP11-34P13.7\n",
      "4      ENSG00000239945  RP11-34P13.8\n",
      "...                ...           ...\n",
      "32733  ENSG00000215635    AC145205.1\n",
      "32734  ENSG00000268590         BAGE5\n",
      "32735  ENSG00000251180    CU459201.1\n",
      "32736  ENSG00000215616    AC002321.2\n",
      "32737  ENSG00000215611    AC002321.1\n",
      "\n",
      "[32738 rows x 2 columns]\n"
     ]
    }
   ],
   "source": [
    "dff = read_dir(\"data_extract/GSE154775/GSM4679492_HS1\")"
   ]
  },
  {
   "cell_type": "code",
   "execution_count": 103,
   "metadata": {},
   "outputs": [],
   "source": [
    "df.var_names_make_unique()\n",
    "df.obs_names_make_unique()"
   ]
  },
  {
   "cell_type": "code",
   "execution_count": 104,
   "metadata": {},
   "outputs": [],
   "source": [
    "df.var[\"mt\"] = df.var_names.str.startswith(\"MT-\")\n",
    "df.var[\"ribo\"] = df.var_names.str.startswith((\"RPS\", \"RPL\"))"
   ]
  },
  {
   "cell_type": "code",
   "execution_count": 111,
   "metadata": {},
   "outputs": [
    {
     "data": {
      "text/plain": [
       "pandas.core.frame.DataFrame"
      ]
     },
     "execution_count": 111,
     "metadata": {},
     "output_type": "execute_result"
    }
   ],
   "source": [
    "type(df.var)"
   ]
  },
  {
   "cell_type": "code",
   "execution_count": 44,
   "metadata": {},
   "outputs": [
    {
     "data": {
      "text/html": [
       "<div>\n",
       "<style scoped>\n",
       "    .dataframe tbody tr th:only-of-type {\n",
       "        vertical-align: middle;\n",
       "    }\n",
       "\n",
       "    .dataframe tbody tr th {\n",
       "        vertical-align: top;\n",
       "    }\n",
       "\n",
       "    .dataframe thead th {\n",
       "        text-align: right;\n",
       "    }\n",
       "</style>\n",
       "<table border=\"1\" class=\"dataframe\">\n",
       "  <thead>\n",
       "    <tr style=\"text-align: right;\">\n",
       "      <th></th>\n",
       "      <th>0</th>\n",
       "      <th>1</th>\n",
       "    </tr>\n",
       "  </thead>\n",
       "  <tbody>\n",
       "    <tr>\n",
       "      <th>0</th>\n",
       "      <td>ENSG00000243485</td>\n",
       "      <td>MIR1302-10</td>\n",
       "    </tr>\n",
       "    <tr>\n",
       "      <th>1</th>\n",
       "      <td>ENSG00000237613</td>\n",
       "      <td>FAM138A</td>\n",
       "    </tr>\n",
       "    <tr>\n",
       "      <th>2</th>\n",
       "      <td>ENSG00000186092</td>\n",
       "      <td>OR4F5</td>\n",
       "    </tr>\n",
       "    <tr>\n",
       "      <th>3</th>\n",
       "      <td>ENSG00000238009</td>\n",
       "      <td>RP11-34P13.7</td>\n",
       "    </tr>\n",
       "    <tr>\n",
       "      <th>4</th>\n",
       "      <td>ENSG00000239945</td>\n",
       "      <td>RP11-34P13.8</td>\n",
       "    </tr>\n",
       "    <tr>\n",
       "      <th>...</th>\n",
       "      <td>...</td>\n",
       "      <td>...</td>\n",
       "    </tr>\n",
       "    <tr>\n",
       "      <th>32733</th>\n",
       "      <td>ENSG00000215635</td>\n",
       "      <td>AC145205.1</td>\n",
       "    </tr>\n",
       "    <tr>\n",
       "      <th>32734</th>\n",
       "      <td>ENSG00000268590</td>\n",
       "      <td>BAGE5</td>\n",
       "    </tr>\n",
       "    <tr>\n",
       "      <th>32735</th>\n",
       "      <td>ENSG00000251180</td>\n",
       "      <td>CU459201.1</td>\n",
       "    </tr>\n",
       "    <tr>\n",
       "      <th>32736</th>\n",
       "      <td>ENSG00000215616</td>\n",
       "      <td>AC002321.2</td>\n",
       "    </tr>\n",
       "    <tr>\n",
       "      <th>32737</th>\n",
       "      <td>ENSG00000215611</td>\n",
       "      <td>AC002321.1</td>\n",
       "    </tr>\n",
       "  </tbody>\n",
       "</table>\n",
       "<p>32738 rows × 2 columns</p>\n",
       "</div>"
      ],
      "text/plain": [
       "                     0             1\n",
       "0      ENSG00000243485    MIR1302-10\n",
       "1      ENSG00000237613       FAM138A\n",
       "2      ENSG00000186092         OR4F5\n",
       "3      ENSG00000238009  RP11-34P13.7\n",
       "4      ENSG00000239945  RP11-34P13.8\n",
       "...                ...           ...\n",
       "32733  ENSG00000215635    AC145205.1\n",
       "32734  ENSG00000268590         BAGE5\n",
       "32735  ENSG00000251180    CU459201.1\n",
       "32736  ENSG00000215616    AC002321.2\n",
       "32737  ENSG00000215611    AC002321.1\n",
       "\n",
       "[32738 rows x 2 columns]"
      ]
     },
     "execution_count": 44,
     "metadata": {},
     "output_type": "execute_result"
    }
   ],
   "source": [
    "pd.read_csv(\"data_extract/GSE154775/GSM4679492_HS1/features.tsv\", delimiter = '\\t', header=None)"
   ]
  },
  {
   "cell_type": "markdown",
   "metadata": {},
   "source": [
    "# Preprocessing Steps\n",
    "1. load data\n",
    "2. QC, for each sample, filter for cells with:\n",
    "    a. 300 < Unique Genes < 6000\n",
    "    b. total RNA count < 40000\n",
    "    c. Michtocondrial DNA < 20%\n",
    "    d. Perform doublet detection and drop doublet cells\n",
    "    e. merge by concatenate\n",
    "    f. normalize\n",
    "\n"
   ]
  }
 ],
 "metadata": {
  "kernelspec": {
   "display_name": "singlecell",
   "language": "python",
   "name": "python3"
  },
  "language_info": {
   "codemirror_mode": {
    "name": "ipython",
    "version": 3
   },
   "file_extension": ".py",
   "mimetype": "text/x-python",
   "name": "python",
   "nbconvert_exporter": "python",
   "pygments_lexer": "ipython3",
   "version": "3.12.4"
  }
 },
 "nbformat": 4,
 "nbformat_minor": 2
}
